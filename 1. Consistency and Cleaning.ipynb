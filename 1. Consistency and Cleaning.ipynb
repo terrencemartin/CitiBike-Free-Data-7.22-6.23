{
 "cells": [
  {
   "cell_type": "code",
   "execution_count": 1,
   "id": "ca0222a5",
   "metadata": {},
   "outputs": [],
   "source": [
    "# Import libraries\n",
    "import pandas as pd\n",
    "import numpy as np\n",
    "import os"
   ]
  },
  {
   "cell_type": "code",
   "execution_count": 2,
   "id": "c3abec1a",
   "metadata": {},
   "outputs": [],
   "source": [
    "# set path\n",
    "path=r'C:\\Users\\t3mar\\Career Foundry\\Data Analytics\\Project 6 Citibike'"
   ]
  },
  {
   "cell_type": "code",
   "execution_count": 3,
   "id": "1087fecb",
   "metadata": {},
   "outputs": [],
   "source": [
    "# import rides\n",
    "rds = pd.read_csv(os.path.join(path, '02 Data', 'Original', 'Rides.csv'), index_col = False)"
   ]
  },
  {
   "cell_type": "code",
   "execution_count": 4,
   "id": "54c3a207",
   "metadata": {},
   "outputs": [
    {
     "data": {
      "text/plain": [
       "(982905, 16)"
      ]
     },
     "execution_count": 4,
     "metadata": {},
     "output_type": "execute_result"
    }
   ],
   "source": [
    "# shape\n",
    "rds.shape"
   ]
  },
  {
   "cell_type": "code",
   "execution_count": 5,
   "id": "739a635e",
   "metadata": {
    "scrolled": true
   },
   "outputs": [
    {
     "data": {
      "text/plain": [
       "ride_id                object\n",
       "rideable_type          object\n",
       "started_at             object\n",
       "ended_at               object\n",
       "start_station_name     object\n",
       "start_station_id       object\n",
       "end_station_name       object\n",
       "end_station_id         object\n",
       "start_lat             float64\n",
       "start_lng             float64\n",
       "start_location         object\n",
       "end_lat               float64\n",
       "end_lng               float64\n",
       "end_location           object\n",
       "member_casual          object\n",
       "Month-Year             object\n",
       "dtype: object"
      ]
     },
     "execution_count": 5,
     "metadata": {},
     "output_type": "execute_result"
    }
   ],
   "source": [
    "# data types\n",
    "rds.dtypes"
   ]
  },
  {
   "cell_type": "code",
   "execution_count": 6,
   "id": "610cd6a9",
   "metadata": {},
   "outputs": [
    {
     "data": {
      "text/plain": [
       "ride_id                  0\n",
       "rideable_type            0\n",
       "started_at               0\n",
       "ended_at                 0\n",
       "start_station_name      68\n",
       "start_station_id        68\n",
       "end_station_name      3365\n",
       "end_station_id        3365\n",
       "start_lat                0\n",
       "start_lng                0\n",
       "start_location           0\n",
       "end_lat               1497\n",
       "end_lng               1497\n",
       "end_location             0\n",
       "member_casual            0\n",
       "Month-Year               0\n",
       "dtype: int64"
      ]
     },
     "execution_count": 6,
     "metadata": {},
     "output_type": "execute_result"
    }
   ],
   "source": [
    "# find nulls\n",
    "rds.isnull().sum()"
   ]
  },
  {
   "cell_type": "code",
   "execution_count": 7,
   "id": "0eba5cfa",
   "metadata": {},
   "outputs": [],
   "source": [
    "# remove nulls\n",
    "rds1 = rds[rds['end_station_name'].isnull() == False]"
   ]
  },
  {
   "cell_type": "code",
   "execution_count": 8,
   "id": "531417ed",
   "metadata": {},
   "outputs": [
    {
     "data": {
      "text/plain": [
       "ride_id               0\n",
       "rideable_type         0\n",
       "started_at            0\n",
       "ended_at              0\n",
       "start_station_name    0\n",
       "start_station_id      0\n",
       "end_station_name      0\n",
       "end_station_id        0\n",
       "start_lat             0\n",
       "start_lng             0\n",
       "start_location        0\n",
       "end_lat               0\n",
       "end_lng               0\n",
       "end_location          0\n",
       "member_casual         0\n",
       "Month-Year            0\n",
       "dtype: int64"
      ]
     },
     "execution_count": 8,
     "metadata": {},
     "output_type": "execute_result"
    }
   ],
   "source": [
    "# check null removal\n",
    "rds1.isnull().sum()"
   ]
  },
  {
   "cell_type": "code",
   "execution_count": 9,
   "id": "b93c8380",
   "metadata": {
    "scrolled": false
   },
   "outputs": [
    {
     "data": {
      "text/html": [
       "<div>\n",
       "<style scoped>\n",
       "    .dataframe tbody tr th:only-of-type {\n",
       "        vertical-align: middle;\n",
       "    }\n",
       "\n",
       "    .dataframe tbody tr th {\n",
       "        vertical-align: top;\n",
       "    }\n",
       "\n",
       "    .dataframe thead th {\n",
       "        text-align: right;\n",
       "    }\n",
       "</style>\n",
       "<table border=\"1\" class=\"dataframe\">\n",
       "  <thead>\n",
       "    <tr style=\"text-align: right;\">\n",
       "      <th></th>\n",
       "      <th>start_lat</th>\n",
       "      <th>start_lng</th>\n",
       "      <th>end_lat</th>\n",
       "      <th>end_lng</th>\n",
       "    </tr>\n",
       "  </thead>\n",
       "  <tbody>\n",
       "    <tr>\n",
       "      <th>count</th>\n",
       "      <td>979540.000000</td>\n",
       "      <td>979540.000000</td>\n",
       "      <td>979540.000000</td>\n",
       "      <td>979540.000000</td>\n",
       "    </tr>\n",
       "    <tr>\n",
       "      <th>mean</th>\n",
       "      <td>40.732143</td>\n",
       "      <td>-74.040287</td>\n",
       "      <td>40.732100</td>\n",
       "      <td>-74.040022</td>\n",
       "    </tr>\n",
       "    <tr>\n",
       "      <th>std</th>\n",
       "      <td>0.012112</td>\n",
       "      <td>0.012027</td>\n",
       "      <td>0.012239</td>\n",
       "      <td>0.012012</td>\n",
       "    </tr>\n",
       "    <tr>\n",
       "      <th>min</th>\n",
       "      <td>40.705959</td>\n",
       "      <td>-74.088964</td>\n",
       "      <td>40.663062</td>\n",
       "      <td>-74.088964</td>\n",
       "    </tr>\n",
       "    <tr>\n",
       "      <th>25%</th>\n",
       "      <td>40.721124</td>\n",
       "      <td>-74.045953</td>\n",
       "      <td>40.721124</td>\n",
       "      <td>-74.045572</td>\n",
       "    </tr>\n",
       "    <tr>\n",
       "      <th>50%</th>\n",
       "      <td>40.734999</td>\n",
       "      <td>-74.037977</td>\n",
       "      <td>40.734961</td>\n",
       "      <td>-74.037683</td>\n",
       "    </tr>\n",
       "    <tr>\n",
       "      <th>75%</th>\n",
       "      <td>40.742258</td>\n",
       "      <td>-74.030970</td>\n",
       "      <td>40.742258</td>\n",
       "      <td>-74.030970</td>\n",
       "    </tr>\n",
       "    <tr>\n",
       "      <th>max</th>\n",
       "      <td>40.863943</td>\n",
       "      <td>-73.941173</td>\n",
       "      <td>40.863124</td>\n",
       "      <td>-73.888271</td>\n",
       "    </tr>\n",
       "  </tbody>\n",
       "</table>\n",
       "</div>"
      ],
      "text/plain": [
       "           start_lat      start_lng        end_lat        end_lng\n",
       "count  979540.000000  979540.000000  979540.000000  979540.000000\n",
       "mean       40.732143     -74.040287      40.732100     -74.040022\n",
       "std         0.012112       0.012027       0.012239       0.012012\n",
       "min        40.705959     -74.088964      40.663062     -74.088964\n",
       "25%        40.721124     -74.045953      40.721124     -74.045572\n",
       "50%        40.734999     -74.037977      40.734961     -74.037683\n",
       "75%        40.742258     -74.030970      40.742258     -74.030970\n",
       "max        40.863943     -73.941173      40.863124     -73.888271"
      ]
     },
     "execution_count": 9,
     "metadata": {},
     "output_type": "execute_result"
    }
   ],
   "source": [
    "# descriptive statistics\n",
    "rds1.describe()"
   ]
  },
  {
   "cell_type": "code",
   "execution_count": 10,
   "id": "210f143c",
   "metadata": {},
   "outputs": [
    {
     "data": {
      "text/plain": [
       "0"
      ]
     },
     "execution_count": 10,
     "metadata": {},
     "output_type": "execute_result"
    }
   ],
   "source": [
    "rds1.duplicated().sum()"
   ]
  },
  {
   "cell_type": "code",
   "execution_count": 11,
   "id": "dd921187",
   "metadata": {},
   "outputs": [],
   "source": [
    "# import opertaions\n",
    "ops = pd.read_csv(os.path.join(path, '02 Data', 'Original', 'Operations.csv'), index_col = False)"
   ]
  },
  {
   "cell_type": "code",
   "execution_count": 12,
   "id": "281e42e8",
   "metadata": {},
   "outputs": [
    {
     "data": {
      "text/plain": [
       "(12, 20)"
      ]
     },
     "execution_count": 12,
     "metadata": {},
     "output_type": "execute_result"
    }
   ],
   "source": [
    "ops.shape"
   ]
  },
  {
   "cell_type": "code",
   "execution_count": 13,
   "id": "8140b68f",
   "metadata": {},
   "outputs": [],
   "source": [
    "rds_ops = rds1.merge(ops, on = 'Month-Year', indicator = True)"
   ]
  },
  {
   "cell_type": "code",
   "execution_count": 14,
   "id": "be99885f",
   "metadata": {},
   "outputs": [
    {
     "data": {
      "text/plain": [
       "(979515, 36)"
      ]
     },
     "execution_count": 14,
     "metadata": {},
     "output_type": "execute_result"
    }
   ],
   "source": [
    "rds_ops.shape"
   ]
  },
  {
   "cell_type": "code",
   "execution_count": 15,
   "id": "32eb42a5",
   "metadata": {},
   "outputs": [],
   "source": [
    "# export\n",
    "rds_ops.to_pickle(os.path.join(path,'02 Data', 'Prepared', 'Rides & Operations.pkl'))"
   ]
  },
  {
   "cell_type": "code",
   "execution_count": 17,
   "id": "d53072b7",
   "metadata": {},
   "outputs": [],
   "source": [
    "rds_ops.to_csv(os.path.join(path,'02 Data', 'Prepared', 'Rides & Operations.csv'))"
   ]
  },
  {
   "cell_type": "code",
   "execution_count": null,
   "id": "4089ca31",
   "metadata": {},
   "outputs": [],
   "source": []
  }
 ],
 "metadata": {
  "kernelspec": {
   "display_name": "Python 3 (ipykernel)",
   "language": "python",
   "name": "python3"
  },
  "language_info": {
   "codemirror_mode": {
    "name": "ipython",
    "version": 3
   },
   "file_extension": ".py",
   "mimetype": "text/x-python",
   "name": "python",
   "nbconvert_exporter": "python",
   "pygments_lexer": "ipython3",
   "version": "3.10.9"
  }
 },
 "nbformat": 4,
 "nbformat_minor": 5
}
